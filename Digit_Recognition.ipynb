{
 "cells": [
  {
   "cell_type": "markdown",
   "metadata": {},
   "source": [
    "# Khai báo các thư viện cần sử dụng."
   ]
  },
  {
   "cell_type": "code",
   "execution_count": 1,
   "metadata": {},
   "outputs": [],
   "source": [
    "import numpy as np\n",
    "import pandas as pd\n",
    "import cv2\n",
    "import os\n",
    "import matplotlib.pyplot as plt\n",
    "from keras.models import Sequential\n",
    "from keras.layers import Dense, Dropout, Activation, Flatten\n",
    "from keras.layers import Conv2D, MaxPooling2D\n",
    "from keras.utils import np_utils\n",
    "from keras.datasets import mnist"
   ]
  },
  {
   "cell_type": "markdown",
   "metadata": {},
   "source": [
    "# Load dữ liệu MNIST."
   ]
  },
  {
   "cell_type": "code",
   "execution_count": null,
   "metadata": {},
   "outputs": [],
   "source": [
    "(X_train, y_train), (X_test, y_test) = mnist.load_data()\n",
    "\n",
    "X_val, y_val = X_train[50000:60000,:], y_train[50000:60000]\n",
    "X_train, y_train = X_train[:60000,:], y_train[:60000]\n",
    "\n",
    "print(X_train.shape)"
   ]
  },
  {
   "cell_type": "markdown",
   "metadata": {},
   "source": [
    "# Reshape lại dữ liệu cho đúng kích thước mà keras yêu cầu."
   ]
  },
  {
   "cell_type": "code",
   "execution_count": null,
   "metadata": {},
   "outputs": [],
   "source": [
    "X_train = X_train.reshape(X_train.shape[0], 28, 28, 1)\n",
    "X_val = X_val.reshape(X_val.shape[0], 28, 28, 1)\n",
    "X_test = X_test.reshape(X_test.shape[0], 28, 28, 1)\n",
    "\n",
    "print (\"Shape of X_train: {}\".format(X_train.shape))\n",
    "print (\"Shape of y_train: {}\".format(y_train.shape))\n",
    "\n",
    "print (\"Shape of X_test: {}\".format(X_test.shape))\n",
    "print (\"Shape of y_test: {}\".format(y_test.shape))"
   ]
  },
  {
   "cell_type": "markdown",
   "metadata": {},
   "source": [
    "# Áp dụng thuật toán One hot encoding label (Y)."
   ]
  },
  {
   "cell_type": "code",
   "execution_count": null,
   "metadata": {},
   "outputs": [],
   "source": [
    "Y_train = np_utils.to_categorical(y_train, 10)\n",
    "Y_val = np_utils.to_categorical(y_val, 10)\n",
    "Y_test = np_utils.to_categorical(y_test, 10)\n",
    "\n",
    "print('Dữ liệu y ban đầu ', y_train[0])\n",
    "print('Dữ liệu y sau one-hot encoding ',Y_train[0])"
   ]
  },
  {
   "cell_type": "markdown",
   "metadata": {},
   "source": [
    "# Định nghĩa model."
   ]
  },
  {
   "cell_type": "code",
   "execution_count": 5,
   "metadata": {},
   "outputs": [],
   "source": [
    "model = Sequential()\n",
    "\n",
    "# Thêm Convolutional layer với 32 kernel, kích thước kernel 3*3.\n",
    "model.add(Conv2D(32, (3, 3), activation='sigmoid', input_shape=(28,28,1)))\n",
    "\n",
    "# Thêm Convolutional layer.\n",
    "model.add(Conv2D(32, (3, 3), activation='sigmoid'))\n",
    "\n",
    "# Thêm Max pooling layer.\n",
    "model.add(MaxPooling2D(pool_size=(2,2)))\n",
    "\n",
    "# Flatten layer chuyển từ tensor sang vector.\n",
    "model.add(Flatten())\n",
    "\n",
    "# Thêm Fully Connected layer với 128 nodes và dùng hàm sigmoid.\n",
    "model.add(Dense(128, activation='sigmoid'))\n",
    "\n",
    "# Output layer với 10 node và dùng softmax function để chuyển sang xác suất.\n",
    "model.add(Dense(10, activation='softmax'))"
   ]
  },
  {
   "cell_type": "markdown",
   "metadata": {},
   "source": [
    "# Compile model."
   ]
  },
  {
   "cell_type": "code",
   "execution_count": 6,
   "metadata": {},
   "outputs": [],
   "source": [
    "model.compile(optimizer='adam', loss='categorical_crossentropy', metrics=['accuracy'])"
   ]
  },
  {
   "cell_type": "markdown",
   "metadata": {},
   "source": [
    "# Thực hiện train model với data."
   ]
  },
  {
   "cell_type": "code",
   "execution_count": null,
   "metadata": {},
   "outputs": [],
   "source": [
    "model.fit(X_train, Y_train, validation_data=(X_val, Y_val),\n",
    "batch_size=32, epochs=20, verbose=1)"
   ]
  },
  {
   "cell_type": "markdown",
   "metadata": {},
   "source": [
    "# Đánh giá model với dữ liệu test"
   ]
  },
  {
   "cell_type": "code",
   "execution_count": null,
   "metadata": {},
   "outputs": [],
   "source": [
    "score = model.evaluate(X_test, Y_test, verbose=0)\n",
    "print(score)"
   ]
  },
  {
   "cell_type": "markdown",
   "metadata": {},
   "source": [
    "# Lưu model."
   ]
  },
  {
   "cell_type": "code",
   "execution_count": null,
   "metadata": {},
   "outputs": [],
   "source": [
    "model.save('reco_digit.model')"
   ]
  },
  {
   "cell_type": "markdown",
   "metadata": {},
   "source": [
    "# Dự đoán kết quả với tệp Test của MNIST."
   ]
  },
  {
   "cell_type": "code",
   "execution_count": null,
   "metadata": {},
   "outputs": [],
   "source": [
    "example = X_train[5]\n",
    "\n",
    "prediction = model.predict(example.reshape(1, 28, 28, 1))\n",
    "\n",
    "print(\"\\n\\nFinal Output: {}\".format(np.argmax(prediction)))\n",
    "plt.imshow(example.reshape(28, 28), cmap=\"gray\")\n",
    "plt.axis('off')\n",
    "plt.show()"
   ]
  },
  {
   "cell_type": "code",
   "execution_count": null,
   "metadata": {},
   "outputs": [],
   "source": [
    "example = X_train[3]\n",
    "\n",
    "prediction = model.predict(example.reshape(1, 28, 28, 1))\n",
    "print(\"\\n\\nFinal Output: {}\".format(np.argmax(prediction)))\n",
    "\n",
    "plt.imshow(example.reshape(28, 28), cmap=\"gray\")\n",
    "plt.show()"
   ]
  },
  {
   "cell_type": "markdown",
   "metadata": {},
   "source": [
    "# Sắp xếp viền theo trục x."
   ]
  },
  {
   "cell_type": "code",
   "execution_count": 13,
   "metadata": {},
   "outputs": [],
   "source": [
    "def x_cord_contour(contours):\n",
    "    if cv2.contourArea(contours) > 10:\n",
    "        M = cv2.moments(contours)\n",
    "        return (int(M['m10']/M['m00']))\n",
    "    else:\n",
    "        pass"
   ]
  },
  {
   "cell_type": "markdown",
   "metadata": {},
   "source": [
    "# Hàm xuất data ra file."
   ]
  },
  {
   "cell_type": "code",
   "execution_count": 14,
   "metadata": {},
   "outputs": [],
   "source": [
    "def output_file(path, array):\n",
    "    \n",
    "    content = \"\\'\" + ''.join([str(x) for x in array]) + \"\\'\"\n",
    "\n",
    "    with open(path, 'a') as f:\n",
    "        if os.stat(path).st_size == 0:\n",
    "            empty_df = pd.DataFrame(columns=['So_Hieu'])\n",
    "            empty_df.to_csv(path, index = False)\n",
    "        else:\n",
    "            pass\n",
    "\n",
    "    file = open(path, 'a')\n",
    "    file.write(content+'\\n')\n",
    "    file.close()"
   ]
  },
  {
   "cell_type": "markdown",
   "metadata": {},
   "source": [
    "# Hàm nhận dạng chữ số và xuất file."
   ]
  },
  {
   "cell_type": "code",
   "execution_count": 15,
   "metadata": {},
   "outputs": [],
   "source": [
    "def reco_digits(img):\n",
    "    \n",
    "    # Gaussian blur, Otsu's threshold\n",
    "    blur = cv2.GaussianBlur(img, (5,5), 0)\n",
    "    thresh = cv2.threshold(blur, 0, 255, cv2.THRESH_BINARY_INV + cv2.THRESH_OTSU)[1]\n",
    "\n",
    "    # xử lý điểm ảnh nhỏ\n",
    "    cnts = cv2.findContours(thresh, cv2.RETR_TREE, cv2.CHAIN_APPROX_SIMPLE)\n",
    "    cnts = cnts[0] if len(cnts) == 2 else cnts[1]\n",
    "    for c in cnts:\n",
    "        area = cv2.contourArea(c)\n",
    "        if area < 800:\n",
    "            cv2.drawContours(thresh, [c], -1, (0,0,0), -1)\n",
    "    \n",
    "    # findContour dùng để cung cấp đường viền từng chữ số trên ảnh.\n",
    "    contours, hierarchy = cv2.findContours(thresh, cv2.RETR_EXTERNAL, cv2.CHAIN_APPROX_SIMPLE)\n",
    "\n",
    "    # Sắp xếp đường viền từ trái sang phải dựa trên hàm sắp xếp đường viền theo trục x.\n",
    "    contours_left_to_right = sorted(contours, key = x_cord_contour, reverse = False)\n",
    "\n",
    "    preprocessed_digits = []\n",
    "\n",
    "    for (i,c)  in enumerate(contours_left_to_right):\n",
    "        (x, y, w, h) = cv2.boundingRect(c)\n",
    "        \n",
    "        # tạo viền quanh chữ số trong ảnh.\n",
    "        cv2.rectangle(img, (x,y), (x+w, y+h), color=(0,0,0), thickness=2)\n",
    "        \n",
    "        # cắt ảnh và xử lý\n",
    "        digit = thresh[y:y+h, x:x+w]\n",
    "        \n",
    "        # chuyển về size(18,18)\n",
    "        resized_digit = cv2.resize(digit, (18,18))\n",
    "        \n",
    "        # thêm padding 5 pixel màu đen vào 4 góc để chuyển ảnh về (28,28)\n",
    "        padded_digit = np.pad(resized_digit, ((5,5),(5,5)), \"constant\", constant_values=0)\n",
    "        \n",
    "        # lưu trữ vào preprocessed_digits\n",
    "        preprocessed_digits.append(padded_digit)\n",
    "    \n",
    "    # Biểu diễn ảnh sau khi tìm được viền các số.\n",
    "    print(\"\\n\\n\\n\")\n",
    "    plt.imshow(img, cmap='gray')\n",
    "    plt.axis('off')\n",
    "    plt.show()\n",
    "    \n",
    "    # Dự đoán kết quả.\n",
    "    processed_digits = []\n",
    "    \n",
    "    for digit in preprocessed_digits:\n",
    "        prediction = model.predict(digit.reshape(1, 28, 28, 1))\n",
    "        \n",
    "        #plt.subplot(5,5,i+1)\n",
    "        #plt.title(np.argmax(prediction))\n",
    "        #plt.imshow(digit.reshape(28, 28), cmap=\"gray\")\n",
    "        #plt.axis('off')\n",
    "        #plt.show()\n",
    "         \n",
    "        processed_digits.append(np.argmax(prediction))\n",
    "        \n",
    "    # In các chữ số cần nhận dạng: (Kết quả)\n",
    "    arr = np.array(processed_digits)\n",
    "    print('Kết quả nhận dạng: ',arr)\n",
    "    \n",
    "    # Xuất ra file csv.\n",
    "    output_file(\"so_hieu_bang_tot_nghiep.csv\",arr)"
   ]
  },
  {
   "cell_type": "markdown",
   "metadata": {},
   "source": [
    "# Hàm cắt ảnh và hiển thị kết quả từ ảnh được chọn."
   ]
  },
  {
   "cell_type": "code",
   "execution_count": 16,
   "metadata": {},
   "outputs": [],
   "source": [
    "def crop_define(path):\n",
    "    \n",
    "    # Đọc và biểu diễn ảnh từ đường dẫn:\n",
    "    img = cv2.imread(path)\n",
    "    img1 = cv2.imread(path,0)\n",
    "    \n",
    "    resized_img = cv2.resize(img1, (3750, 3450))\n",
    "    \n",
    "    plt.imshow(img)\n",
    "    plt.axis('off')\n",
    "    plt.show()\n",
    "    \n",
    "    # x,y là chỉ số tọa độ trục x và y, w là width, h là height.\n",
    "    crop_img = resized_img[2700:3030, 750:1500] #[y:y+h, x:x+w]\n",
    "    \n",
    "    reco_digits(crop_img) # Kết quả"
   ]
  },
  {
   "cell_type": "markdown",
   "metadata": {},
   "source": [
    "# Minh họa xử lý ảnh"
   ]
  },
  {
   "cell_type": "code",
   "execution_count": null,
   "metadata": {
    "collapsed": true
   },
   "outputs": [],
   "source": [
    "    img = cv2.imread('bang-tot-nghiep/5.jpg')\n",
    "    img1 = cv2.imread('bang-tot-nghiep/5.jpg',0)\n",
    "    \n",
    "    resized_img = cv2.resize(img1, (3750, 3450))\n",
    "    \n",
    "    print('original_image')\n",
    "    plt.imshow(img)\n",
    "    plt.axis('off')\n",
    "    plt.show()\n",
    "    \n",
    "    print('\\n\\ngrayscale_image')\n",
    "    plt.imshow(img1)\n",
    "    plt.show()\n",
    "    \n",
    "    print('\\n\\nresized_image')\n",
    "    plt.imshow(resized_img)\n",
    "    plt.show()\n",
    "    \n",
    "    crop_img = resized_img[2700:3030, 750:1500]\n",
    "    \n",
    "    print('\\n\\ncrop_image')\n",
    "    plt.imshow(crop_img)\n",
    "    plt.show()\n",
    "    \n",
    "    blur = cv2.GaussianBlur(crop_img, (5,5), 0)\n",
    "    thresh = cv2.threshold(blur, 0, 255, cv2.THRESH_BINARY_INV + cv2.THRESH_OTSU)[1]\n",
    "\n",
    "    # xử lý điểm ảnh nhỏ\n",
    "    cnts = cv2.findContours(thresh, cv2.RETR_TREE, cv2.CHAIN_APPROX_SIMPLE)\n",
    "    cnts = cnts[0] if len(cnts) == 2 else cnts[1]\n",
    "    for c in cnts:\n",
    "        area = cv2.contourArea(c)\n",
    "        if area < 800:\n",
    "            cv2.drawContours(thresh, [c], -1, (0,0,0), -1)\n",
    "    \n",
    "    print('\\n\\nGaussian blur')\n",
    "    plt.imshow(blur)\n",
    "    plt.show() \n",
    "    \n",
    "    print('\\n\\nOtsu threshold')\n",
    "    plt.imshow(thresh)\n",
    "    plt.show()\n",
    "    "
   ]
  },
  {
   "cell_type": "markdown",
   "metadata": {},
   "source": [
    "# Test chương trình với một số bằng tốt nghiệp."
   ]
  },
  {
   "cell_type": "code",
   "execution_count": null,
   "metadata": {
    "collapsed": true
   },
   "outputs": [],
   "source": [
    "crop_define('bang-tot-nghiep/1.jpg')"
   ]
  },
  {
   "cell_type": "code",
   "execution_count": null,
   "metadata": {
    "collapsed": true
   },
   "outputs": [],
   "source": [
    "crop_define('bang-tot-nghiep/2.jpg')"
   ]
  },
  {
   "cell_type": "code",
   "execution_count": null,
   "metadata": {
    "collapsed": true
   },
   "outputs": [],
   "source": [
    "crop_define('bang-tot-nghiep/3.jpg')"
   ]
  },
  {
   "cell_type": "code",
   "execution_count": null,
   "metadata": {
    "collapsed": true
   },
   "outputs": [],
   "source": [
    "crop_define('bang-tot-nghiep/4.jpg')"
   ]
  }
 ],
 "metadata": {
  "kernelspec": {
   "display_name": "Python 3",
   "language": "python",
   "name": "python3"
  },
  "language_info": {
   "codemirror_mode": {
    "name": "ipython",
    "version": 3
   },
   "file_extension": ".py",
   "mimetype": "text/x-python",
   "name": "python",
   "nbconvert_exporter": "python",
   "pygments_lexer": "ipython3",
   "version": "3.7.15"
  }
 },
 "nbformat": 4,
 "nbformat_minor": 2
}
